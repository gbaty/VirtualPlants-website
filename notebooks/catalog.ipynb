{
 "metadata": {
  "name": ""
 },
 "nbformat": 3,
 "nbformat_minor": 0,
 "worksheets": [
  {
   "cells": [
    {
     "cell_type": "heading",
     "level": 1,
     "metadata": {},
     "source": [
      "Explication d\u00e9veloppement \"Catalog\""
     ]
    },
    {
     "cell_type": "markdown",
     "metadata": {},
     "source": [
      "Je vais essayer de r\u00e9sumer mes d\u00e9veloppements et ce dont j'avais besoin.\n",
      "\n",
      "Dans les points que je souhaitais, c'est\n",
      "\n",
      "  1) avoir des contrats d\u00e9finis explicitement\n",
      "c'est \u00e0 dire, un endroit o\u00f9 je puisse trouver pr\u00e9cis\u00e9ment comment il faut \u00e9crire l'impl\u00e9mentation : les entr\u00e9e/sorties, les m\u00e9thodes, les signaux, ...\n",
      "L'id\u00e9e est, lors d'un d\u00e9veloppement, choisir une interface donn\u00e9e et pouvoir l'impl\u00e9menter points \u00e0 points.\n",
      "Si je suis l'auteur de l'interface, savoir ce que je ne dois pas modifier si je ne veux pas casser l'API.\n",
      "Si possible, permettre une v\u00e9rification du respect du contrat \u00e0 l'aide d'un outils externe ou \u00e0 l'ex\u00e9cution en option.\n",
      "\n",
      "  2) une tr\u00e8s grande souplesse d'utilisation: pouvoir ajouter ou supprimer des plugins juste en ajoutant/supprimant une ligne, pouvoir facilement passer une classe d'une cat\u00e9gorie \u00e0 une autre pour les besoins de d\u00e9veloppement. \u00e9galement pouvoir acc\u00e9der \u00e0 mes classes selon divers crit\u00e8res.  Par exemple, pour des besoins de tests, afficher tous les widgets plugables. O\u00f9 bien tous les \u00e9diteurs de texte et ainsi de suite.\n",
      "\n",
      "  3) Pouvoir r\u00e9cup\u00e9rer dans les instances existantes, celles qui r\u00e9pondent \u00e0 un contrat particulier.\n",
      "Par exemple, s'il existe un widget d'affichage dans l'interface, et que je souhaite afficher un texte, je veux r\u00e9cup\u00e9rer cet objet. S'il n'en existe pas, alors je le cr\u00e9e \u00e0 ce moment l\u00e0 ou j'utilise une autre implementation (en ligne de commande par exemple)\n",
      "\n",
      "Mon sentiment est que dans les premiers stades du d\u00e9veloppement, les objets sont continuellement en train de changer et il est extr\u00eamement d\u00e9licat de d\u00e9finir \u00e0 l'avance quels seront les diff\u00e9rents concepts qui \u00e9mergeront.\n",
      "Les raisons sont nombreuses : la science et les besoins \u00e9voluent continuellement, ce que l'on souhaite pour l'interface graphique n'est pas encore clair, les objectifs changent r\u00e9guli\u00e8rement. Et, en ce qui me concerne, je ne connait pas suffisamment l'existant pour avoir une vision claire.\n",
      "Par exemple, actuellement j'ai un viewer de base de donn\u00e9e Omero. Cet objet pourrait rentrer dans diverses cat\u00e9gories (au hasard): Viewer, DbBrowser, OmeroTools, TreeView, Applet, QtWidget ... Actuellement je ne sais pas laquelle/lesquelles est/sont pertinentes. On pourrait imaginer un d\u00e9veloppement plus classique, en V par exemple, qui figerait un peu tout cela mais ce n'est clairement pas le choix qui a \u00e9t\u00e9 fait et c'est je pense tr\u00e8s bien ainsi.\n",
      "C'est pour ces raisons que le point 2 me semble n\u00e9cessaire, ce qui n'emp\u00eache pas, une fois que le choses convergent, de migrer vers une approche point d'entr\u00e9e pour des raisons de performance et complexit\u00e9.\n",
      "\n",
      "Pour le point 1) je pense que ce n'est pas incompatible avec l'approche que tu m'as d\u00e9crite, en ajoutant un mapping group <-> contrat.\n",
      "Pour le point 2), j'imagine que c'est plus discutable, sans doute une question de point de vue mais je trouve le passage obligatoire par \"python setup.py develop\" (pour mettre \u00e0 jour les entry_points) g\u00e9nant car le c\u00f4t\u00e9 develop perd tout son int\u00e9r\u00eat.\n",
      "Pour le point 3), je ne vois pas pour l'instant de solution avec l'approche plugins que tu m'as d\u00e9crite.\n",
      "\n",
      "Mon impl\u00e9mentation actuelle est fortement inspir\u00e9e des concepts du paquet envisage que je t'invite \u00e0 lire pour avoir une r\u00e9f\u00e9rence commune lors des discussions :\n",
      "http://docs.enthought.com/envisage\n",
      "\n",
      "Dans ce document, ils utilisent clairement les deux approches.\n",
      "Celle que tu m'a pr\u00e9sent\u00e9e est d\u00e9finie sous le terme de points d'extension. La principale diff\u00e9rence \u00e9tant que les points d'extension sont d\u00e9finis au niveau de la classe et non du package python.\n",
      "Le point 3 est d\u00e9fini sous forme de services.\n",
      "Le point 1 est impl\u00e9ment\u00e9 \u00e0 l'aide de traits, d'un d\u00e9corateur provides(interfaces) et d'une fonction check_implements.\n",
      "\n",
      "D'un point de vue utilisateur, \u00e7a donne \u00e7a.\n",
      "\n",
      "Appel via une interface pour obtenir une classe impl\u00e9mentant cette interface:"
     ]
    },
    {
     "cell_type": "code",
     "collapsed": false,
     "input": [
      "from openalea.vpltk.catalog import Catalog\n",
      "catalog = Catalog()\n",
      "catalog.get_service(interfaces='openalea-test:IReader') # Instancie l'objet"
     ],
     "language": "python",
     "metadata": {},
     "outputs": [
      {
       "metadata": {},
       "output_type": "pyout",
       "prompt_number": 1,
       "text": [
        "<openalea.vpltk.sample.implementations.XyzHandler at 0x10fd24b90>"
       ]
      }
     ],
     "prompt_number": 1
    },
    {
     "cell_type": "code",
     "collapsed": false,
     "input": [
      "catalog.get_services(interfaces='openalea-test:IReader')"
     ],
     "language": "python",
     "metadata": {},
     "outputs": [
      {
       "metadata": {},
       "output_type": "pyout",
       "prompt_number": 2,
       "text": [
        "[<openalea.vpltk.sample.implementations.XyzHandler at 0x10fd24b90>]"
       ]
      }
     ],
     "prompt_number": 2
    },
    {
     "cell_type": "code",
     "collapsed": false,
     "input": [
      "factories = catalog.get_factories(interfaces='openalea-test:IReader')\n",
      "factory = factories[0]\n",
      "print factory"
     ],
     "language": "python",
     "metadata": {},
     "outputs": [
      {
       "output_type": "stream",
       "stream": "stdout",
       "text": [
        "<openalea.vpltk.catalog.factories.ObjectFactory object at 0x1112db450>\n"
       ]
      }
     ],
     "prompt_number": 3
    },
    {
     "cell_type": "code",
     "collapsed": false,
     "input": [
      "factory.instantiate()"
     ],
     "language": "python",
     "metadata": {},
     "outputs": [
      {
       "metadata": {},
       "output_type": "pyout",
       "prompt_number": 4,
       "text": [
        "<openalea.vpltk.sample.implementations.XyzHandler at 0x110220090>"
       ]
      }
     ],
     "prompt_number": 4
    },
    {
     "cell_type": "markdown",
     "metadata": {},
     "source": [
      "Appel via un nom unique pour obtenir une implementation pr\u00e9cise"
     ]
    },
    {
     "cell_type": "code",
     "collapsed": false,
     "input": [
      "catalog.get_service(identifier='openalea-test:XyzHandler') # renvoie la m\u00eame instance qu'en 1"
     ],
     "language": "python",
     "metadata": {},
     "outputs": [
      {
       "metadata": {},
       "output_type": "pyout",
       "prompt_number": 5,
       "text": [
        "<openalea.vpltk.sample.implementations.XyzHandler at 0x10fd24b90>"
       ]
      }
     ],
     "prompt_number": 5
    },
    {
     "cell_type": "markdown",
     "metadata": {},
     "source": [
      "Parcours par tags.\n",
      "Cette approche permet d'acc\u00e9der aux points d'extensions ou aux factories dans les cas de wralea et plugin.\n",
      "L'id\u00e9e ici \u00e9tait plus d'acc\u00e9der \u00e0 toutes les extensions \u00e0 partir d'un m\u00eame catalogue.\n",
      "J'ai pas mal h\u00e9sit\u00e9 car m\u00e9langer deux concepts diff\u00e9rents n'est sans doute pas une bonne id\u00e9e."
     ]
    },
    {
     "cell_type": "code",
     "collapsed": false,
     "input": [
      "catalog.get_factories(tags=['gui_scripts'])[0:5]"
     ],
     "language": "python",
     "metadata": {},
     "outputs": [
      {
       "metadata": {},
       "output_type": "pyout",
       "prompt_number": 6,
       "text": [
        "[EntryPoint.parse('alea_install_gui = openalea.deploygui.alea_install_script:main'),\n",
        " EntryPoint.parse('visualea = openalea.visualea.visualea_script:start_gui'),\n",
        " EntryPoint.parse('aleashell = openalea.visualea.shell:main'),\n",
        " EntryPoint.parse('lpy = openalea.lpy.gui.lpystudio:main'),\n",
        " EntryPoint.parse('phyllotaxisAnalyzer = vplants.phyllotaxis_analysis.gui:main')]"
       ]
      }
     ],
     "prompt_number": 6
    },
    {
     "cell_type": "code",
     "collapsed": false,
     "input": [
      "wraleas = catalog.get_factories(tags=['wralea'])[0:5]\n",
      "wraleas"
     ],
     "language": "python",
     "metadata": {},
     "outputs": [
      {
       "output_type": "stream",
       "stream": "stdout",
       "text": [
        "__wraela__.py loaded\n"
       ]
      },
      {
       "metadata": {},
       "output_type": "pyout",
       "prompt_number": 7,
       "text": [
        "[<openalea.core.node.NodeFactory at 0x118649a10>,\n",
        " <openalea.core.node.NodeFactory at 0x1186497d0>,\n",
        " <openalea.core.node.NodeFactory at 0x118649990>,\n",
        " <openalea.core.node.NodeFactory at 0x1176c9690>,\n",
        " <openalea.core.node.NodeFactory at 0x1176c9b50>]"
       ]
      }
     ],
     "prompt_number": 7
    },
    {
     "cell_type": "code",
     "collapsed": false,
     "input": [
      "[wralea.name for wralea in wraleas]"
     ],
     "language": "python",
     "metadata": {},
     "outputs": [
      {
       "metadata": {},
       "output_type": "pyout",
       "prompt_number": 8,
       "text": [
        "['probe', 'scene', 'loop', 'dict', 'edit dict']"
       ]
      }
     ],
     "prompt_number": 8
    },
    {
     "cell_type": "code",
     "collapsed": false,
     "input": [
      "plugins = catalog.get_factories(tags=['plugin'])[0:5]\n",
      "plugins"
     ],
     "language": "python",
     "metadata": {},
     "outputs": [
      {
       "metadata": {},
       "output_type": "pyout",
       "prompt_number": 9,
       "text": [
        "[<openalea.vpltk.catalog.factories.InterfaceFactory at 0x1112dbb90>,\n",
        " <openalea.vpltk.catalog.factories.ObjectFactory at 0x1112e2090>,\n",
        " <openalea.vpltk.catalog.factories.ObjectFactory at 0x1112dbfd0>,\n",
        " <openalea.vpltk.catalog.factories.InterfaceFactory at 0x1112dbf90>,\n",
        " <openalea.vpltk.catalog.factories.ObjectFactory at 0x1112e2050>]"
       ]
      }
     ],
     "prompt_number": 9
    },
    {
     "cell_type": "code",
     "collapsed": false,
     "input": [
      "[plugin.name for plugin in plugins]"
     ],
     "language": "python",
     "metadata": {},
     "outputs": [
      {
       "metadata": {},
       "output_type": "pyout",
       "prompt_number": 10,
       "text": [
        "['openalea:IApplet',\n",
        " 'openalea:RApplet',\n",
        " 'openalea:LPyApplet',\n",
        " 'openalea:IQTextWidget',\n",
        " 'openalea:PythonApplet']"
       ]
      }
     ],
     "prompt_number": 10
    },
    {
     "cell_type": "markdown",
     "metadata": {},
     "source": [
      "On peut ensuite ajouter quelques options comme tags/exclude_tags pour ne chercher que dans les wralea par exemple ou dans tout sauf wralea.\n",
      "\n",
      "Au niveau implementation, la recherche via interface est cod\u00e9e from scratch. La recherche de plugin et de wralea utilise le PackageManager tr\u00e8s l\u00e9g\u00e8rement modifi\u00e9. En gros, au lieu de chercher les __wralea__ en dur, il cherche le motif pass\u00e9 en constructeur. PluginManager n'est plus un singleton mais un attribut de Catalog qui lui est un singleton.\n",
      "Le pluginmanager n'est cr\u00e9\u00e9 que si n\u00e9c\u00e9ssaire. Si on ne charge que les interfaces ou points d'entr\u00e9e, les wralea ne sont pas cherch\u00e9s."
     ]
    },
    {
     "cell_type": "code",
     "collapsed": false,
     "input": [
      "from openalea.vpltk.catalog.pluginmanager import PluginManager\n",
      "pm = PluginManager(plugin_type='wralea') # cherche les __wralea__.py\n",
      "pm = PluginManager(plugin_type='plugin') # cherche les __plugin__.py"
     ],
     "language": "python",
     "metadata": {},
     "outputs": [],
     "prompt_number": 11
    },
    {
     "cell_type": "markdown",
     "metadata": {},
     "source": [
      "Pour finir, les plugins sont d\u00e9clar\u00e9s ainsi.\n",
      "Dans le setup.py, comme un wralea, d\u00e9fini une fois pour toute :"
     ]
    },
    {
     "cell_type": "raw",
     "metadata": {},
     "source": [
      "'plugin' : ['oalab = openalea.oalab_wralea']"
     ]
    },
    {
     "cell_type": "markdown",
     "metadata": {},
     "source": [
      "Dans le fichier ``__plugin__.py`` dans le module openalea.oalab_wralea"
     ]
    },
    {
     "cell_type": "code",
     "collapsed": false,
     "input": [
      "__all__ = ['IReader', 'XyzHandler']\n",
      "\n",
      "from openalea.vpltk.catalog.factories import InterfaceFactory, ObjectFactory\n",
      "\n",
      "class IReader(object):\n",
      "    \"\"\"\n",
      "    Doc\n",
      "    \"\"\"\n",
      "    identifier = 'openalea-test:IReader'\n",
      "\n",
      "    def read(self, filepath):\n",
      "        \"\"\"\n",
      "        Doc\n",
      "        \"\"\"\n",
      "        raise NotImplementedError\n",
      "\n",
      "IReader = InterfaceFactory(IReader)\n",
      "XyzHandler = ObjectFactory(name='openalea-test:XyzHandler', \n",
      "                          description=\"A sample to show interface/implementation mechanism\", \n",
      "                          category=\"test\", \n",
      "                          interfaces=[\"openalea-test:IXyzReader\"], \n",
      "                          nodemodule=\"openalea.vpltk.sample.implementations\", \n",
      "                          nodeclass=\"XyzHandler\")"
     ],
     "language": "python",
     "metadata": {},
     "outputs": [],
     "prompt_number": 12
    },
    {
     "cell_type": "markdown",
     "metadata": {},
     "source": [
      "L'interface est import\u00e9e/d\u00e9finie directement ici car il s'agit d'une coquille vide sans d\u00e9pendances et donc a peine plus lourde \u00e0 charger que la factory. Il serait sans doute possible d'all\u00e9ger encore la d\u00e9claration en fusionnant InterfaceFactory et Interface, ce qui aurait un sens car seule la classe nous int\u00e9resse dans la cas d'une interface. L'instance ne sert \u00e0 rien.\n",
      "On aurait ainsi acc\u00e8s, via le catalogue, \u00e0 tous les param\u00e8tres de l'interface comme crit\u00e8re de recherche.\n",
      "\n",
      "Enfin, la v\u00e9ritable impl\u00e9mentation est definie comme n'importe quelle autre classe sans avoir besoin de sp\u00e9cifier les interfaces., ce qui permet d'int\u00e9grer des modules tierces facilement.\n",
      "\n",
      "Une fonction list_implementations permet de lister toutes les interfaces et leurs impl\u00e9mentations associ\u00e9es"
     ]
    },
    {
     "cell_type": "code",
     "collapsed": false,
     "input": [
      "from openalea.vpltk.catalog.tools import list_implementations\n",
      "list_implementations()"
     ],
     "language": "python",
     "metadata": {},
     "outputs": [
      {
       "output_type": "stream",
       "stream": "stdout",
       "text": [
        "===============\n",
        "Implementations\n",
        "===============\n",
        "\u001b[93mopenalea-test:IXyzReader\u001b[91m   (IReader > IXyzReader)\u001b[0m\n",
        "  * openalea-test:XyzHandler\n",
        "\n",
        "\u001b[93mopenalea:IApplet\u001b[91m   (IApplet)\u001b[0m\n",
        "  * openalea:RApplet\n",
        "  * openalea:LPyApplet\n",
        "  * openalea:PythonApplet\n",
        "  * openalea:VisualeaApplet\n",
        "\n",
        "\u001b[93mopenalea-test:IWriter\u001b[91m   (IWriter)\u001b[0m\n",
        "  * openalea-test:XyzHandler\n",
        "\n",
        "\u001b[93mopenalea:IQTextWidget\u001b[91m   (IQTextWidget)\u001b[0m\n",
        "\n",
        "\u001b[93mopenalea-test:IXyzWriter\u001b[91m   (IWriter > IXyzWriter)\u001b[0m\n",
        "  * openalea-test:XyzHandler\n",
        "\n",
        "\u001b[93mopenalea:IParadigmApplet\u001b[91m   (IApplet > IParadigmApplet)\u001b[0m\n",
        "  * openalea:RApplet\n",
        "  * openalea:LPyApplet\n",
        "  * openalea:PythonApplet\n",
        "  * openalea:VisualeaApplet\n",
        "\n",
        "\u001b[93mopenalea-test:IReader\u001b[91m   (IReader)\u001b[0m\n",
        "  * openalea-test:XyzHandler\n",
        "\n"
       ]
      }
     ],
     "prompt_number": 13
    },
    {
     "cell_type": "markdown",
     "metadata": {},
     "source": [
      "Merci d'avoir lu jusqu'ici !!!!"
     ]
    },
    {
     "cell_type": "code",
     "collapsed": false,
     "input": [],
     "language": "python",
     "metadata": {},
     "outputs": [],
     "prompt_number": 13
    }
   ],
   "metadata": {}
  }
 ]
}